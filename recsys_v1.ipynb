{
 "cells": [
  {
   "cell_type": "code",
   "execution_count": 509,
   "metadata": {},
   "outputs": [],
   "source": [
    "import torch\n",
    "import torch.nn.functional as F\n",
    "import torch.optim as optim\n",
    "import numpy as np\n",
    "import pickle as pkl\n",
    "import torch.autograd as autograd\n",
    "import torch.nn as nn\n",
    "import os\n",
    "import math\n",
    "import random\n",
    "import gensim\n",
    "import nltk\n",
    "import random\n",
    "from sklearn.manifold import TSNE\n",
    "from sklearn.cluster import KMeans\n",
    "import enchant\n",
    "import matplotlib.pyplot as plt\n",
    "from nltk import WordNetLemmatizer, word_tokenize, bigrams, ngrams, RegexpTokenizer\n",
    "lemmatize = WordNetLemmatizer()\n",
    "%matplotlib inline"
   ]
  },
  {
   "cell_type": "code",
   "execution_count": 867,
   "metadata": {},
   "outputs": [],
   "source": [
    "class recsys(nn.Module):\n",
    "    \n",
    "    \n",
    "    def __init__(self,ratings=None,users=100,sites=1000,latent_features=10,dropout=.1,max_iter=10,epochs=4,temperature=1,losses=None):\n",
    "        \n",
    "        super(recsys,self).__init__()\n",
    "        \n",
    "        self.users=users\n",
    "        self.sites=sites\n",
    "        self.dropout=nn.Dropout(p=dropout)\n",
    "        self.max_iter=max_iter\n",
    "        self.temperature=temperature\n",
    "        self.ratings=ratings\n",
    "        self.losses=None\n",
    "        self.epochs=epochs\n",
    "        self.linear1=nn.Linear(sites,latent_features)\n",
    "        self.linear2=nn.Linear(latent_features,latent_features)\n",
    "        self.linear3=nn.Linear(latent_features,sites)\n",
    "    \n",
    "    \n",
    "    # The input x should have shape (number_of_users,sites)\n",
    "    # Ratings needs to be a torch tensor of the same shape as x.\n",
    "    \n",
    "    \n",
    "#     def get_mask(self,ratings=None):\n",
    "\n",
    "#         try: \n",
    "#             if ratings==None:\n",
    "#                 pass\n",
    "#         except:\n",
    "#             self.ratings=ratings\n",
    "            \n",
    "#         mask=[]\n",
    "#         for i in range(len(self.ratings)):\n",
    "#             mask.append([0 if math.isnan(self.ratings[i,j]) else 1 for j in range(len(self.ratings[0]))])\n",
    "#         return torch.tensor(mask)\n",
    "       \n",
    "    \n",
    "    \n",
    "    def imputer(self,x=None):\n",
    "        #Need to make a function which takes in a ratings array and returns\n",
    "        #an initial best guess.  For now I'll just mask the unkown variables\n",
    "        #print(type(self.ratings))\n",
    "        \n",
    "        try: \n",
    "            if x==None:\n",
    "                ratings=self.ratings\n",
    "        except:\n",
    "            ratings=x      \n",
    "                \n",
    "        ratings[np.isnan(ratings)] = 0\n",
    "        return torch.tensor(ratings).float()\n",
    "    \n",
    "\n",
    "    \n",
    "    def forward(self,x):\n",
    "        x=self.imputer(x)\n",
    "        x=self.linear1(x.float())\n",
    "        x=torch.tanh(x)\n",
    "        x=self.linear2(x.float())\n",
    "        x=self.dropout(x.float())\n",
    "        x=torch.tanh(x)\n",
    "        x=self.linear3(x.float())\n",
    "        return x\n",
    "    \n",
    "    \n",
    "    def custom_loss(self,x,y):\n",
    "        ct=0\n",
    "        for i in range(len(x)):\n",
    "            ct+=1-(x[i]@y[i])/(torch.norm(x[i])*torch.norm(y[i]))\n",
    "        return ct/len(x)\n",
    "\n",
    "\n",
    "    \n",
    "    def predict(self,x):\n",
    "        x=self.imputer(x)\n",
    "        return self.forward(x)\n",
    "    \n",
    "    def fit(self,ratings=None):\n",
    "        \n",
    "        try: \n",
    "            if ratings==None:\n",
    "                ratings=self.ratings\n",
    "        except:\n",
    "            pass            \n",
    "\n",
    "        ratings_clean=self.imputer(ratings)\n",
    "\n",
    "        loss_function=nn.MSELoss()\n",
    "    \n",
    "        optimizer = optim.Adam(self.parameters(),lr=.01)\n",
    "\n",
    "\n",
    "        f= open('data/losses','w+')\n",
    "\n",
    "        losses=[]\n",
    "\n",
    "        for i in range(1,self.epochs+1):\n",
    "            \n",
    "            for _ in range(self.max_iter):\n",
    "                optimizer.zero_grad()\n",
    "                out = self.forward(ratings_clean)\n",
    "                #loss = loss_function(out,ratings_clean) #This one works!\n",
    "                loss = self.custom_loss(out,ratings_clean)  #This one works\n",
    "                losses.append(float(loss.detach().numpy()))\n",
    "                f.write(str(loss.detach().numpy())+',')\n",
    "                loss.backward(retain_graph=True)\n",
    "                \n",
    "                optimizer.step()\n",
    "            self.losses=losses\n",
    "        f.close()"
   ]
  },
  {
   "cell_type": "code",
   "execution_count": 868,
   "metadata": {},
   "outputs": [],
   "source": [
    "test=recsys(users=100,sites=1000,latent_features=20,dropout=0,epochs=5,max_iter=10)\n"
   ]
  },
  {
   "cell_type": "code",
   "execution_count": 869,
   "metadata": {},
   "outputs": [],
   "source": [
    "data=[]\n",
    "users=100\n",
    "sites=1000\n",
    "ranked=30\n",
    "for j in range(users):\n",
    "    ra=np.random.choice(range(users),ranked)\n",
    "    data.append(np.array([10*random.random() if (i in ra) else float('NaN') for i in range(sites)]))\n",
    "data=np.array(data)"
   ]
  },
  {
   "cell_type": "code",
   "execution_count": 870,
   "metadata": {
    "scrolled": false
   },
   "outputs": [],
   "source": [
    "test.fit(data)"
   ]
  },
  {
   "cell_type": "code",
   "execution_count": 872,
   "metadata": {},
   "outputs": [
    {
     "data": {
      "image/png": "[encoded data removed]",
      "text/plain": [
       "<Figure size 432x288 with 1 Axes>"
      ]
     },
     "metadata": {},
     "output_type": "display_data"
    }
   ],
   "source": [
    "plt.scatter(list(range(len(test.losses))),test.losses)\n",
    "plt.xlabel('Iteration')\n",
    "plt.ylabel('Loss')\n",
    "plt.show()"
   ]
  },
  {
   "cell_type": "code",
   "execution_count": 873,
   "metadata": {},
   "outputs": [],
   "source": [
    "predictions=test.predict(data[2])"
   ]
  }
 ],
 "metadata": {
  "kernelspec": {
   "display_name": "Python 3",
   "language": "python",
   "name": "python3"
  },
  "language_info": {
   "codemirror_mode": {
    "name": "ipython",
    "version": 3
   },
   "file_extension": ".py",
   "mimetype": "text/x-python",
   "name": "python",
   "nbconvert_exporter": "python",
   "pygments_lexer": "ipython3",
   "version": "3.6.5"
  }
 },
 "nbformat": 4,
 "nbformat_minor": 2
}
