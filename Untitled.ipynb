{
 "cells": [
  {
   "cell_type": "code",
   "execution_count": 1,
   "metadata": {},
   "outputs": [],
   "source": [
    "import recommender"
   ]
  },
  {
   "cell_type": "code",
   "execution_count": 3,
   "metadata": {},
   "outputs": [
    {
     "data": {
      "text/plain": [
       "[['Anchor Brewing Company', 0.5045638251304626],\n",
       " ['Pier 39', 0.4816241550445557],\n",
       " ['Golden Gate Bridge', 0.44602946281433103],\n",
       " ['Lands End', 0.4378100621700287],\n",
       " ['Alcatraz Island', 0.392172532081604],\n",
       " ['San Francisco Symphony', 0.2865501266717911],\n",
       " ['Ghirardelli Square', 0.258979731798172],\n",
       " ['Golden Gate Park', 0.2542537993192673],\n",
       " ['California Academy of Sciences', 0.2402346557378769],\n",
       " ['Haight-Ashbury', 0.23984386920928955],\n",
       " ['Ferry Building Marketplace', 0.2341594636440277],\n",
       " ['San Francisco Playhouse', 0.22190973222255705],\n",
       " ['Chinatown', 0.20785800009965896],\n",
       " ['AT&T Park', 0.20465317130088806],\n",
       " ['Coit Tower', 0.20267219245433807],\n",
       " ['Twin Peaks', 0.18370723456144333],\n",
       " ['War Memorial Opera House', 0.1800000159275899],\n",
       " ['Louise M. Davies Symphony Hall', 0.1753349757194519],\n",
       " ['Chinese United Methodist Church', 0.1700000364113717],\n",
       " ['Presidio Chapel', 0.17000003085863655]]"
      ]
     },
     "execution_count": 3,
     "metadata": {},
     "output_type": "execute_result"
    }
   ],
   "source": [
    "preferences=[1,2,3,4]\n",
    "recommender.preferences_to_placescores(preferences,num_results=20,weight=.01)"
   ]
  },
  {
   "cell_type": "code",
   "execution_count": null,
   "metadata": {},
   "outputs": [],
   "source": []
  }
 ],
 "metadata": {
  "kernelspec": {
   "display_name": "Python 3",
   "language": "python",
   "name": "python3"
  },
  "language_info": {
   "codemirror_mode": {
    "name": "ipython",
    "version": 3
   },
   "file_extension": ".py",
   "mimetype": "text/x-python",
   "name": "python",
   "nbconvert_exporter": "python",
   "pygments_lexer": "ipython3",
   "version": "3.6.5"
  }
 },
 "nbformat": 4,
 "nbformat_minor": 2
}
